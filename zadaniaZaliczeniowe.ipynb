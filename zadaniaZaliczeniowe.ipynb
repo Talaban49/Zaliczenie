{
 "cells": [
  {
   "cell_type": "markdown",
   "metadata": {},
   "source": [
    "# Data Science niestacjonarne\n",
    "## Bartosz Lewandowski\n",
    "### nr albumu 24840\n",
    "Lista wylosowanych zadań: [3, 4, 5, 8, 9, 11, 17, 20, 23, 25, 26, 31, 35]"
   ]
  },
  {
   "cell_type": "code",
   "execution_count": 1,
   "metadata": {},
   "outputs": [],
   "source": [
    "def numberChecker(variable):\n",
    "    try:\n",
    "        assert isinstance(variable, float) or isinstance(variable, int)\n",
    "        return True\n",
    "    \n",
    "    except AssertionError:\n",
    "        print(\"Podana wartość nie jest liczbą!!!\")\n",
    "        return False\n",
    "    \n",
    "def positiveIntegerCheck(variable):\n",
    "    try:\n",
    "        assert isinstance(variable, int)  and variable >= 0\n",
    "        return True\n",
    "    \n",
    "    except AssertionError:\n",
    "        print(\"Podana wartość nie jest liczbą całkowitą lub nie jest liczbą nieujemną!!!\")\n",
    "        return False"
   ]
  },
  {
   "cell_type": "markdown",
   "metadata": {},
   "source": [
    "### Zadanie 3.\n",
    "Utwórz skrypt do zamiany kilometrów na mile i na odwrót."
   ]
  },
  {
   "cell_type": "code",
   "execution_count": 50,
   "metadata": {},
   "outputs": [
    {
     "name": "stdout",
     "output_type": "stream",
     "text": [
      "131.730652\n",
      "33.79614\n"
     ]
    }
   ],
   "source": [
    "def mileKilometreConverter(miles):\n",
    "    if numberChecker(miles):\n",
    "        return miles*1.60934\n",
    "\n",
    "def kilometreMileConverter(km):\n",
    "    if numberChecker(km):\n",
    "        return km*0.621371\n",
    "        \n",
    "print(kilometreMileConverter(212))\n",
    "print(mileKilometreConverter(21))"
   ]
  },
  {
   "cell_type": "markdown",
   "metadata": {},
   "source": [
    "### Zadanie 4.\n",
    "Utwórz skrypt do znajdowania miejsc zerowych trójmianu kwadratowego."
   ]
  },
  {
   "cell_type": "code",
   "execution_count": 67,
   "metadata": {},
   "outputs": [
    {
     "name": "stdout",
     "output_type": "stream",
     "text": [
      "-1.0\n"
     ]
    }
   ],
   "source": [
    "def zeroOfFunction(a,b,c):\n",
    "    delta = b**2 - 4*a*c\n",
    "    if delta > 0:\n",
    "        return (-b-delta**0.5)/2*a, (-b+delta**0.5)/2*a\n",
    "    elif delta == 0:\n",
    "        return -b/2*a\n",
    "    else:\n",
    "        return None\n",
    "    \n",
    "print(zeroOfFunction(1,2,1))"
   ]
  },
  {
   "cell_type": "markdown",
   "metadata": {},
   "source": [
    "### Zadanie 5.\n",
    "Utwórz skrypt, który będzie komunikować, czy wprowadzona liczba jest dodatnia czy nie."
   ]
  },
  {
   "cell_type": "code",
   "execution_count": 51,
   "metadata": {},
   "outputs": [
    {
     "name": "stdout",
     "output_type": "stream",
     "text": [
      "True\n",
      "False\n"
     ]
    }
   ],
   "source": [
    "#zwraca True dla parzystej, False dla nieparzystej liczby\n",
    "#w przypadku podaniu zmiennej typu float, liczba jest konwertowana\n",
    "#na liczbę całkowitą.\n",
    "\n",
    "def parityCheck(number):\n",
    "    if numberChecker(number):\n",
    "        number = int(number)\n",
    "        return not(bool(number%2))\n",
    "        \n",
    "print(parityCheck(112131231312))\n",
    "print(parityCheck(112131231311))"
   ]
  },
  {
   "cell_type": "markdown",
   "metadata": {},
   "source": [
    "### Zadanie 8.\n",
    "W klasie przeprowadzono sprawdzian, za który uczniowie mogli otrzymać maksymalnie 40 punktów. Skala ocen w szkole jest następująca: 0-39% - ndst, 40-49% - dop, 50-69% - dst, 70-84% - db, 85-99% - bdb, 100% - cel. Utwórz skrypt z interfejsem tekstowym, który na podstawie podanej liczby punktów ze sprawdzianu wyświetli ocenę jaka się należy (skorzystaj z konstrukcji if, elif, else)"
   ]
  },
  {
   "cell_type": "code",
   "execution_count": 53,
   "metadata": {},
   "outputs": [
    {
     "name": "stdout",
     "output_type": "stream",
     "text": [
      "Podana wartość nie jest liczbą lub podana liczba nie zawiera się w przedziale <0;100>\n",
      "None\n",
      "Podana wartość nie jest liczbą lub podana liczba nie zawiera się w przedziale <0;100>\n",
      "None\n",
      "None\n",
      "cel\n",
      "bdb\n",
      "db\n",
      "dst\n",
      "dop\n",
      "ndst\n"
     ]
    }
   ],
   "source": [
    "def score(points):\n",
    "    try:\n",
    "        if not numberChecker(points): return\n",
    "        assert 0 <= points <= 100\n",
    "\n",
    "        return 'cel' if points == 100 else 'bdb' if points >= 85 else 'db' if points >= 70 else \\\n",
    "                'dst' if points >= 50 else 'dop' if points >= 40 else 'ndst'\n",
    "    \n",
    "    except AssertionError:\n",
    "        print(\"Podana wartość nie jest liczbą lub podana liczba nie zawiera się w przedziale <0;100>\")\n",
    "        \n",
    "print(score(121))\n",
    "print(score(-25))\n",
    "print(score('dwadziescia'))\n",
    "print(score(100))\n",
    "print(score(85))\n",
    "print(score(70))\n",
    "print(score(55))\n",
    "print(score(45))\n",
    "print(score(1))"
   ]
  },
  {
   "cell_type": "markdown",
   "metadata": {},
   "source": [
    "### Zadanie 9.\n",
    "Utwórz skrypt z interfejsem tekstowym, który wyliczy sumę n kolejnych liczb (użytkownik podaje pierwszą i ostatnią liczbę sumy). Uwaga - w zadaniu należy zbudować funkcję własną realizującą dane zadanie"
   ]
  },
  {
   "cell_type": "code",
   "execution_count": 55,
   "metadata": {},
   "outputs": [
    {
     "name": "stdout",
     "output_type": "stream",
     "text": [
      "55\n"
     ]
    }
   ],
   "source": [
    "def sequenceSum(begin,end):\n",
    "        if numberChecker(begin) and numberChecker(end):\n",
    "            begin, end = int(begin), int(end)\n",
    "            return sum(list(range(begin,end+1)))\n",
    "    \n",
    "print(sequenceSum(-0,10))"
   ]
  },
  {
   "cell_type": "markdown",
   "metadata": {},
   "source": [
    "### Zadanie 11.\n",
    "Utwórz skrypt z interfejsem tekstowym który obliczy silnię od danego argumentu. Wykonać zadanie na dwa sposoby - iteracyjnie i rekurencyjnie.\n"
   ]
  },
  {
   "cell_type": "code",
   "execution_count": 85,
   "metadata": {},
   "outputs": [
    {
     "name": "stdout",
     "output_type": "stream",
     "text": [
      "Podana wartość nie jest liczbą lub nie jest liczbą nieujemną!!!\n",
      "None\n",
      "720\n",
      "Podana wartość nie jest liczbą lub nie jest liczbą nieujemną!!!\n",
      "None\n",
      "720\n"
     ]
    }
   ],
   "source": [
    "from functools import reduce \n",
    "\n",
    "def factorialNorm(number):\n",
    "    if positiveIntegerCheck(number):\n",
    "        return reduce((lambda x, y: x * y), list(range(1,number+1)))  if number != 0 else 0\n",
    "    \n",
    "def factorialReq(number):\n",
    "    if not positiveIntegerCheck(number): return\n",
    "    if number == 1: return 1\n",
    "    return number*factorialReq(number-1)\n",
    "\n",
    "print(factorialReq(-2))\n",
    "print(factorialReq(6))\n",
    "print(factorialNorm(-2))\n",
    "print(factorialNorm(6))"
   ]
  },
  {
   "cell_type": "markdown",
   "metadata": {},
   "source": [
    "### Zadanie 17.\n",
    "Utwórz funkcję, która będzie generować listy danych do wykreślenia w oparciu o:\n",
    "<ol>\n",
    "<li>fukcję liniową ax+b</li>\n",
    "<li>funkcję kwadratową ax^2+bx+c</li>\n",
    "<li>funkcję odwrotnie-potęgową a/x^n</li>\n",
    "</ol>\n",
    "Każda z fukcji powinna przyjmować parametry równania, natomiast zwracać powinna dwie listy - x i y, które następnie będzie można wykreślić na wykresie\n"
   ]
  },
  {
   "cell_type": "code",
   "execution_count": 90,
   "metadata": {},
   "outputs": [
    {
     "data": {
      "text/plain": [
       "([-2.0, -1.5, -1.0, -0.5, 0.5, 1.0, 1.5],\n",
       " [-0.5, -0.6666666666666666, -1.0, -2.0, 2.0, 1.0, 0.6666666666666666])"
      ]
     },
     "execution_count": 90,
     "metadata": {},
     "output_type": "execute_result"
    }
   ],
   "source": [
    "import numpy as np\n",
    "\n",
    "def linearFunciton(a,b):\n",
    "    if not (numberChecker(a) and numberChecker(b)): return None\n",
    "    x = np.arange(-20,20,0.1)\n",
    "    return x, list(map(lambda y: a*y+b, x))\n",
    "\n",
    "def squareFunction(a,b,c):\n",
    "    if not (numberChecker(a) and numberChecker(b) and numberChecker(c)): return None\n",
    "    x = np.arange(-20,20,0.1)\n",
    "    return x, list(map(lambda y: a*y**2+b*y+c, x))\n",
    "\n",
    "\n",
    "def inverseExponentialFunction(a,n):\n",
    "    if not (numberChecker(a) and numberChecker(n)): return None\n",
    "    x = list(np.arange(-2,2,0.5))\n",
    "    if 0 in x: x.remove(0)\n",
    "    return x, list(map(lambda y: a/(y**n), x))\n",
    "\n",
    "inverseExponentialFunction(1,1)"
   ]
  },
  {
   "cell_type": "markdown",
   "metadata": {},
   "source": [
    "### Zadanie 20.\n",
    "Korzystając ze słownika, utwórz funkcję, która będzie zwracać tłumaczenia nazw miesięcy z języka polskiego na angielski."
   ]
  },
  {
   "cell_type": "code",
   "execution_count": 64,
   "metadata": {},
   "outputs": [
    {
     "name": "stdout",
     "output_type": "stream",
     "text": [
      "December\n",
      "0\n"
     ]
    }
   ],
   "source": [
    "def monthDictionary(month):\n",
    "    if isinstance(month, str): month = month.lower()\n",
    "    dict = {'styczeń':'January',\n",
    "    'luty':'February',\n",
    "    'marzec':'March',\n",
    "    'kwiecień':'April',\n",
    "    'maj':'May',\n",
    "    'czerwiec':'June',\n",
    "    'lipiec':'July',\n",
    "    'sierpień':'August',\n",
    "    'wrzesień':'September',\n",
    "    'październik':'October',\n",
    "    'listopad':'November',\n",
    "    'grudzień':'December'}\n",
    "    return dict[month] if month in dict else 0\n",
    "\n",
    "print(monthDictionary('Grudzień'))\n",
    "print(monthDictionary('lutyas'))"
   ]
  },
  {
   "cell_type": "markdown",
   "metadata": {},
   "source": [
    "### Zadanie 23.\n",
    "Utwórz funkcję, która jako argument będzie przyjmować listę liczb zmiennoprzecinkowych, a jej wynikiem będzie dominanta (moda). Skorzystaj z obiektu Counter i jego metody most_common z pakietu collections."
   ]
  },
  {
   "cell_type": "code",
   "execution_count": 80,
   "metadata": {},
   "outputs": [
    {
     "name": "stdout",
     "output_type": "stream",
     "text": [
      "5\n"
     ]
    }
   ],
   "source": [
    "from collections import Counter\n",
    "\n",
    "def checkList(listOfElements):\n",
    "    return all(isinstance(element, (int, float)) for element in listOfElements)\n",
    "\n",
    "def mode(listOfNumbers):\n",
    "    try:\n",
    "        assert checkList(listOfNumbers)\n",
    "        return Counter(listOfNumbers).most_common(1)[0][0]\n",
    "    \n",
    "    except AssertionError:\n",
    "        print(\"Niepoprawny typ elementów listy.\")\n",
    "\n",
    "print(mode([1,2,3,4,5,5,5,5,6,5,4,3,2]))"
   ]
  },
  {
   "cell_type": "markdown",
   "metadata": {},
   "source": [
    "### Zadanie 25.\n",
    "Utwórz fukcję, która jako argument będzie przyjmować listę liczb zmiennoprzecinkowych, a jej wynikiem będzie drugi moment centralny (wariancja)."
   ]
  },
  {
   "cell_type": "code",
   "execution_count": 51,
   "metadata": {},
   "outputs": [
    {
     "data": {
      "text/plain": [
       "22.1"
      ]
     },
     "execution_count": 51,
     "metadata": {},
     "output_type": "execute_result"
    }
   ],
   "source": [
    "def checkList(listOfElements):\n",
    "    return all(isinstance(element, (int, float)) for element in listOfElements)\n",
    "\n",
    "\n",
    "def skewness(listOfNumbers):\n",
    "    try:\n",
    "        assert checkList(listOfNumbers)\n",
    "        average = sum(listOfNumbers)/len(listOfNumbers)\n",
    "        return round(sum(map(lambda x: (x-average)**2 ,listOfNumbers))/len(listOfNumbers),3)\n",
    "    \n",
    "    except AssertionError:\n",
    "        print(\"Niepoprawny typ elementów listy.\")\n",
    "    \n",
    "    \n",
    "skewness([12, 1.32, 1, 1.12])"
   ]
  },
  {
   "cell_type": "markdown",
   "metadata": {},
   "source": [
    "### Zadanie 26.\n",
    "Utwórz funkcję, która jako argument będzie przyjmować listę liczb zmiennoprzecinkowych, a jej wynikiem będzie trzeci moment centralny (skośność)"
   ]
  },
  {
   "cell_type": "code",
   "execution_count": 50,
   "metadata": {},
   "outputs": [
    {
     "data": {
      "text/plain": [
       "119.75"
      ]
     },
     "execution_count": 50,
     "metadata": {},
     "output_type": "execute_result"
    }
   ],
   "source": [
    "def checkList(listOfElements):\n",
    "    return all(isinstance(element, (int, float)) for element in listOfElements)\n",
    "\n",
    "\n",
    "def skewness(listOfNumbers):\n",
    "    try:\n",
    "        assert checkList(listOfNumbers)\n",
    "        average = sum(listOfNumbers)/len(listOfNumbers)\n",
    "        return round(sum(map(lambda x: (x-average)**3 ,listOfNumbers))/len(listOfNumbers),3)\n",
    "    \n",
    "    except AssertionError:\n",
    "        print(\"Niepoprawny typ elementów listy.\")\n",
    "    \n",
    "    \n",
    "skewness([12, 1.32, 1, 1.12])"
   ]
  },
  {
   "cell_type": "markdown",
   "metadata": {},
   "source": [
    "### Zadanie 31.\n",
    "Korzystając z instrukcji np.random.choice oraz reshape z pakietu numpy stworzyć funkcję generują macierz kwadratową stopnia N wypełnioną wartościami 0 i 255 w losowy sposób"
   ]
  },
  {
   "cell_type": "code",
   "execution_count": 34,
   "metadata": {},
   "outputs": [
    {
     "name": "stdout",
     "output_type": "stream",
     "text": [
      "Proszę wprowadzić wymiar macierzy kwadratowej:10\n",
      "[[  0   0 255 255   0 255 255   0   0   0]\n",
      " [  0   0   0 255   0 255   0   0 255 255]\n",
      " [  0   0   0   0   0   0   0 255 255   0]\n",
      " [  0 255   0   0   0   0 255   0   0   0]\n",
      " [  0   0   0 255   0   0 255   0   0   0]\n",
      " [  0 255   0   0   0   0 255   0   0   0]\n",
      " [  0   0   0 255   0   0 255 255   0   0]\n",
      " [  0   0 255   0   0   0   0   0   0 255]\n",
      " [255   0   0 255   0 255   0   0   0 255]\n",
      " [  0 255   0   0   0   0   0   0   0   0]]\n"
     ]
    }
   ],
   "source": [
    "import numpy as np\n",
    "\n",
    "N = int(input('Proszę wprowadzić wymiar macierzy kwadratowej:'))\n",
    "randomNumbers = np.random.choice([0,255], N*N, p=[0.7, 0.3]).reshape(N,N)\n",
    "print(randomNumbers)"
   ]
  },
  {
   "cell_type": "markdown",
   "metadata": {},
   "source": [
    "### Zadanie 35.\n",
    "Utwórz klasę Prostokąt, a następnie na jej podstawie (korzystając z mechanizmu dziedziczenia) utwórz klasę Kwadrat."
   ]
  },
  {
   "cell_type": "code",
   "execution_count": 24,
   "metadata": {},
   "outputs": [
    {
     "name": "stdout",
     "output_type": "stream",
     "text": [
      "side a=2, side b=3\n",
      "Pole prostokata = 6\n",
      "Obwod prostokata = 10\n",
      "side a=3\n",
      "Pole prostokata = 9\n",
      "Obwod prostokata = 12\n",
      "Podana wartość nie jest liczbą!!!\n",
      "Podana wartość nie jest liczbą!!!\n"
     ]
    }
   ],
   "source": [
    "class Rectangle():\n",
    "    def __init__(self, a=0, b=0):\n",
    "        self._flag = False\n",
    "        \n",
    "        self._a = a if numberChecker(a) else 0\n",
    "        self._b = b if numberChecker(b) else 0\n",
    "        \n",
    "        if self._a and self._b:\n",
    "            self._flag = True\n",
    "            \n",
    "    def __str__(self):\n",
    "        return f'side a={self._a}, side b={self._b}'\n",
    "    \n",
    "    def area(self):\n",
    "        if self._flag:\n",
    "            return self._a * self._b\n",
    "    \n",
    "    def perimeter(self):\n",
    "        if self._flag:\n",
    "            return 2 * self._a + 2 * self._b\n",
    "    \n",
    "    \n",
    "class Square(Rectangle):\n",
    "    def __init__(self, a=0):\n",
    "        super().__init__(a,a)\n",
    "        \n",
    "    def __str__(self):\n",
    "        return f'side a={self._a}'\n",
    "    \n",
    "    \n",
    "rect = Rectangle(2,3)\n",
    "sq = Square(3)\n",
    "\n",
    "print(rect)\n",
    "print(f'Pole prostokata = {rect.area()}')\n",
    "print(f'Obwod prostokata = {rect.perimeter()}')\n",
    "\n",
    "print(sq)\n",
    "print(f'Pole prostokata = {sq.area()}')\n",
    "print(f'Obwod prostokata = {sq.perimeter()}')\n",
    "    \n",
    "sqaa = Square('ewaea')"
   ]
  }
 ],
 "metadata": {
  "kernelspec": {
   "display_name": "Python 3",
   "language": "python",
   "name": "python3"
  },
  "language_info": {
   "codemirror_mode": {
    "name": "ipython",
    "version": 3
   },
   "file_extension": ".py",
   "mimetype": "text/x-python",
   "name": "python",
   "nbconvert_exporter": "python",
   "pygments_lexer": "ipython3",
   "version": "3.7.3"
  }
 },
 "nbformat": 4,
 "nbformat_minor": 2
}
